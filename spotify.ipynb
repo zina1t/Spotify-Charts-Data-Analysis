{
  "nbformat": 4,
  "nbformat_minor": 0,
  "metadata": {
    "colab": {
      "provenance": [],
      "authorship_tag": "ABX9TyMwv+IpJaHYsOX/2guJ6b0L",
      "include_colab_link": true
    },
    "kernelspec": {
      "name": "python3",
      "display_name": "Python 3"
    },
    "language_info": {
      "name": "python"
    }
  },
  "cells": [
    {
      "cell_type": "markdown",
      "metadata": {
        "id": "view-in-github",
        "colab_type": "text"
      },
      "source": [
        "<a href=\"https://colab.research.google.com/github/zina1t/Spotify-Charts-Data-Analysis/blob/main/spotify.ipynb\" target=\"_parent\"><img src=\"https://colab.research.google.com/assets/colab-badge.svg\" alt=\"Open In Colab\"/></a>"
      ]
    },
    {
      "cell_type": "code",
      "execution_count": 101,
      "metadata": {
        "id": "CqXYTAI8iHEk"
      },
      "outputs": [],
      "source": [
        "import pandas as pd\n",
        "import seaborn as sns\n",
        "import numpy as np\n",
        "import matplotlib.pyplot as plt\n",
        "from scipy import stats\n",
        "from sklearn.preprocessing import MinMaxScaler\n",
        "import calendar"
      ]
    },
    {
      "cell_type": "code",
      "source": [
        "df = pd.read_csv('spotify-2023.csv', encoding='ISO-8859-1')\n",
        "df.info()"
      ],
      "metadata": {
        "id": "NyBrlyvKiPz2"
      },
      "execution_count": null,
      "outputs": []
    },
    {
      "cell_type": "code",
      "source": [
        "df['streams'] = pd.to_numeric(df['streams'], errors='coerce')\n",
        "df.dropna(inplace=True)"
      ],
      "metadata": {
        "id": "ZZUstAGlFD9n"
      },
      "execution_count": 103,
      "outputs": []
    },
    {
      "cell_type": "code",
      "source": [
        "track_name_to_id = {name: index for index, name in enumerate(df['track_name'].unique())}\n",
        "df['track_id'] = df['track_name'].map(track_name_to_id)\n",
        "df.drop(columns=['track_name'], inplace=True)"
      ],
      "metadata": {
        "id": "i2EuOiOaiXf0"
      },
      "execution_count": 104,
      "outputs": []
    },
    {
      "cell_type": "code",
      "source": [
        "plt.figure(figsize = (10, 7))\n",
        "years = df['released_year'].value_counts().sort_index()\n",
        "years.plot(x = years.index, y = years, width=0.6, kind='bar')\n",
        "plt.show()"
      ],
      "metadata": {
        "id": "bnB653q_onBg"
      },
      "execution_count": null,
      "outputs": []
    },
    {
      "cell_type": "code",
      "source": [
        "months = df['released_month'].value_counts()\n",
        "m_names = [calendar.month_name[i] for i in months.index]\n",
        "\n",
        "plt.figure(figsize = (10, 7))\n",
        "plt.pie(months, labels=m_names, autopct='%.1f%%')\n",
        "plt.show()"
      ],
      "metadata": {
        "id": "Qyi8IbddzArs"
      },
      "execution_count": null,
      "outputs": []
    },
    {
      "cell_type": "code",
      "source": [
        "columns_analysis = ['bpm', 'danceability_%', 'valence_%', 'energy_%', 'acousticness_%', 'instrumentalness_%', 'liveness_%', 'speechiness_%']\n",
        "plt.figure(figsize = (10, 7))\n",
        "for i, column in enumerate(columns_analysis, 1):\n",
        "    plt.subplot(3, 3, i)\n",
        "    sns.histplot(data=df, x=column, bins=15, color='blue')\n",
        "    plt.xlabel(column, fontsize=12)\n",
        "    plt.ylabel(\"Score\", fontsize=12)\n",
        "\n",
        "plt.tight_layout()\n",
        "plt.show()"
      ],
      "metadata": {
        "id": "dn6zhPaOApD0"
      },
      "execution_count": null,
      "outputs": []
    },
    {
      "cell_type": "code",
      "source": [
        "correlation_matrix = df[columns_analysis].corr()\n",
        "correlation_matrix"
      ],
      "metadata": {
        "id": "68J8SE7LBTXy"
      },
      "execution_count": null,
      "outputs": []
    },
    {
      "cell_type": "code",
      "source": [
        "plt.figure(figsize=(10, 7))\n",
        "sns.heatmap(correlation_matrix, vmin=-0.58, vmax=1, annot=True)"
      ],
      "metadata": {
        "id": "Jvg4OVk7C5Q5"
      },
      "execution_count": null,
      "outputs": []
    },
    {
      "cell_type": "code",
      "source": [
        "fig, axes = plt.subplots(3, 3, figsize=(10, 7))\n",
        "\n",
        "axes = axes.flatten()\n",
        "\n",
        "scaler = MinMaxScaler()\n",
        "df['streams'] = scaler.fit_transform(df[['streams']])\n",
        "\n",
        "for i, column in enumerate(columns_analysis):\n",
        "    plt.sca(axes[i])\n",
        "    plt.bar(df[column], df['streams'], color='blue')\n",
        "    plt.xlabel(column, fontsize=12)\n",
        "    plt.ylabel('Streams', fontsize=12)\n",
        "    plt.title(f'Streams vs. {column}', fontsize=14)\n",
        "    plt.grid(axis='y')\n",
        "plt.tight_layout()\n",
        "plt.show()"
      ],
      "metadata": {
        "id": "WygiJ0_NNv97"
      },
      "execution_count": null,
      "outputs": []
    },
    {
      "cell_type": "code",
      "source": [
        "sorted_keys = sorted(df['key'].unique())\n",
        "average_streams = df.groupby('key')['streams'].mean().sort_values().index.tolist()\n",
        "plt.figure(figsize=(10,7))\n",
        "sns.boxplot(x='streams', y='key', data= df, order=average_streams)\n",
        "plt.xlabel('Streams')\n",
        "plt.ylabel('Keys')\n",
        "plt.title('Box Plot of Streams by Keys')\n",
        "plt.show()"
      ],
      "metadata": {
        "id": "65pvBqOLxuAf"
      },
      "execution_count": null,
      "outputs": []
    },
    {
      "cell_type": "code",
      "source": [
        "plt.figure(figsize=(10, 7))\n",
        "key_count = df['key'].value_counts(ascending=True)\n",
        "colors  = sns.color_palette(\"Set2\", len(key_count))\n",
        "\n",
        "key_count.plot(x = 'key', y = key_count, kind='bar', color=colors)\n",
        "plt.xlabel('Keys')\n",
        "plt.ylabel('Count')\n",
        "plt.title('Count of each key')\n",
        "plt.xticks(rotation=0)\n",
        "plt.show()"
      ],
      "metadata": {
        "id": "MY-M1Cny1tIm"
      },
      "execution_count": null,
      "outputs": []
    },
    {
      "cell_type": "code",
      "source": [
        "key_df = df[['key', 'streams']].copy()\n",
        "key_df = key_df.groupby('key')['streams'].agg(['mean', 'min', 'max'])\n",
        "key_df = key_df.rename(columns={'mean' : 'avg_streams', 'min' : 'min_streams', 'max' : 'max_streams'})\n",
        "key_df"
      ],
      "metadata": {
        "id": "Cv30U9BSAsMA"
      },
      "execution_count": null,
      "outputs": []
    },
    {
      "cell_type": "code",
      "source": [
        "plt.figure(figsize=(10, 7))\n",
        "key_df.plot(y ='avg_streams', color=colors, kind='bar', legend=False)\n",
        "plt.xlabel('Keys')\n",
        "plt.ylabel('Average streams')\n",
        "plt.title('Average streams by key')\n",
        "plt.xticks(rotation=0)\n",
        "plt.show()"
      ],
      "metadata": {
        "id": "MrMyR4nIHGkN"
      },
      "execution_count": null,
      "outputs": []
    },
    {
      "cell_type": "code",
      "source": [
        "fig, axes = plt.subplots(3, 3, figsize=(10, 7))\n",
        "\n",
        "axes = axes.flatten()\n",
        "\n",
        "scaler = MinMaxScaler()\n",
        "df['streams'] = scaler.fit_transform(df[['streams']])\n",
        "\n",
        "for i, column in enumerate(columns_analysis):\n",
        "    plt.sca(axes[i])\n",
        "    plt.bar(df['key'], df[column])\n",
        "    plt.ylabel('Key')\n",
        "    plt.title(f'Key vs. {column}')\n",
        "    plt.grid(axis='y')\n",
        "plt.tight_layout()\n",
        "plt.show()"
      ],
      "metadata": {
        "id": "HwgAWK_BNGkJ"
      },
      "execution_count": null,
      "outputs": []
    }
  ]
}